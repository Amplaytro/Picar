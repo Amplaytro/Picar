{
 "cells": [
  {
   "cell_type": "code",
   "execution_count": 1,
   "id": "d3297e72",
   "metadata": {},
   "outputs": [],
   "source": [
    "import numpy as np\n",
    "import matplotlib.pyplot as plt\n",
    "import cv2\n",
    "import tensorflow as tf\n",
    "import keras"
   ]
  },
  {
   "cell_type": "code",
   "execution_count": 2,
   "id": "a202841c",
   "metadata": {},
   "outputs": [],
   "source": [
    "frame = cv2.imread('C:/Users/ameya/Downloads/Kaggle/training_data/training_data/3.png')"
   ]
  },
  {
   "cell_type": "code",
   "execution_count": 3,
   "id": "e935ddea",
   "metadata": {},
   "outputs": [],
   "source": [
    "def detect_edges(frame):\n",
    "    # filter for black lane lines\n",
    "    hsv = cv2.cvtColor(frame, cv2.COLOR_BGR2HSV)\n",
    "    show_image(\"hsv\", hsv)\n",
    "    lower_black = np.array([0, 0, 0])\n",
    "    upper_black = np.array([180, 255, 30])\n",
    "    mask = cv2.inRange(hsv, lower_black, upper_black)\n",
    "    show_image(\"black mask\", mask)\n",
    "\n",
    "    # detect edges\n",
    "    edges = cv2.Canny(mask, 200, 400)\n",
    "\n",
    "    return edges"
   ]
  },
  {
   "cell_type": "code",
   "execution_count": 4,
   "id": "23f2c432",
   "metadata": {},
   "outputs": [],
   "source": [
    "def region_of_interest(edges):\n",
    "    height, width = edges.shape\n",
    "    mask = np.zeros_like(edges)\n",
    "\n",
    "    # only focus bottom half of the screen\n",
    "    polygon = np.array([[\n",
    "        (0, height * 1 / 2),\n",
    "        (width, height * 1 / 2),\n",
    "        (width, height),\n",
    "        (0, height),\n",
    "    ]], np.int32)\n",
    "\n",
    "    cv2.fillPoly(mask, polygon, 255)\n",
    "    cropped_edges = cv2.bitwise_and(edges, mask)\n",
    "    return cropped_edges"
   ]
  },
  {
   "cell_type": "code",
   "execution_count": null,
   "id": "361e732d",
   "metadata": {},
   "outputs": [],
   "source": []
  }
 ],
 "metadata": {
  "kernelspec": {
   "display_name": "Python 3 (ipykernel)",
   "language": "python",
   "name": "python3"
  },
  "language_info": {
   "codemirror_mode": {
    "name": "ipython",
    "version": 3
   },
   "file_extension": ".py",
   "mimetype": "text/x-python",
   "name": "python",
   "nbconvert_exporter": "python",
   "pygments_lexer": "ipython3",
   "version": "3.9.13"
  }
 },
 "nbformat": 4,
 "nbformat_minor": 5
}
